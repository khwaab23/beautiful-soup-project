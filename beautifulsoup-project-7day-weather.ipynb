{
 "cells": [
  {
   "cell_type": "markdown",
   "metadata": {},
   "source": [
    "# Beautiful soup 7-day whether report"
   ]
  },
  {
   "cell_type": "code",
   "execution_count": 3,
   "metadata": {},
   "outputs": [
    {
     "name": "stdout",
     "output_type": "stream",
     "text": [
      "[<div class=\"tombstone-container\">\n",
      "<p class=\"period-name\">Today<br/><br/></p>\n",
      "<p><img alt=\"Today: Mostly sunny, with a high near 58. West wind 7 to 15 mph, with gusts as high as 20 mph. \" class=\"forecast-icon\" src=\"newimages/medium/sct.png\" title=\"Today: Mostly sunny, with a high near 58. West wind 7 to 15 mph, with gusts as high as 20 mph. \"/></p><p class=\"short-desc\">Mostly Sunny</p><p class=\"temp temp-high\">High: 58 °F</p></div>, <div class=\"tombstone-container\">\n",
      "<p class=\"period-name\">Tonight<br/><br/></p>\n",
      "<p><img alt=\"Tonight: Mostly clear, with a low around 46. West wind 11 to 16 mph decreasing to 5 to 10 mph after midnight. Winds could gust as high as 21 mph. \" class=\"forecast-icon\" src=\"newimages/medium/nfew.png\" title=\"Tonight: Mostly clear, with a low around 46. West wind 11 to 16 mph decreasing to 5 to 10 mph after midnight. Winds could gust as high as 21 mph. \"/></p><p class=\"short-desc\">Mostly Clear</p><p class=\"temp temp-low\">Low: 46 °F</p></div>, <div class=\"tombstone-container\">\n",
      "<p class=\"period-name\">Tuesday<br/><br/></p>\n",
      "<p><img alt=\"Tuesday: Sunny, with a high near 64. Light west wind increasing to 11 to 16 mph in the afternoon. Winds could gust as high as 21 mph. \" class=\"forecast-icon\" src=\"newimages/medium/few.png\" title=\"Tuesday: Sunny, with a high near 64. Light west wind increasing to 11 to 16 mph in the afternoon. Winds could gust as high as 21 mph. \"/></p><p class=\"short-desc\">Sunny</p><p class=\"temp temp-high\">High: 64 °F</p></div>, <div class=\"tombstone-container\">\n",
      "<p class=\"period-name\">Tuesday<br/>Night</p>\n",
      "<p><img alt=\"Tuesday Night: Mostly clear, with a low around 49. West wind 8 to 17 mph, with gusts as high as 22 mph. \" class=\"forecast-icon\" src=\"newimages/medium/nfew.png\" title=\"Tuesday Night: Mostly clear, with a low around 49. West wind 8 to 17 mph, with gusts as high as 22 mph. \"/></p><p class=\"short-desc\">Mostly Clear</p><p class=\"temp temp-low\">Low: 49 °F</p></div>, <div class=\"tombstone-container\">\n",
      "<p class=\"period-name\">Wednesday<br/><br/></p>\n",
      "<p><img alt=\"Wednesday: Sunny, with a high near 68. Light southwest wind becoming west 8 to 13 mph in the afternoon. \" class=\"forecast-icon\" src=\"newimages/medium/few.png\" title=\"Wednesday: Sunny, with a high near 68. Light southwest wind becoming west 8 to 13 mph in the afternoon. \"/></p><p class=\"short-desc\">Sunny</p><p class=\"temp temp-high\">High: 68 °F</p></div>, <div class=\"tombstone-container\">\n",
      "<p class=\"period-name\">Wednesday<br/>Night</p>\n",
      "<p><img alt=\"Wednesday Night: Mostly clear, with a low around 50.\" class=\"forecast-icon\" src=\"newimages/medium/nfew.png\" title=\"Wednesday Night: Mostly clear, with a low around 50.\"/></p><p class=\"short-desc\">Mostly Clear</p><p class=\"temp temp-low\">Low: 50 °F</p></div>, <div class=\"tombstone-container\">\n",
      "<p class=\"period-name\">Thursday<br/><br/></p>\n",
      "<p><img alt=\"Thursday: Mostly sunny, with a high near 67.\" class=\"forecast-icon\" src=\"newimages/medium/sct.png\" title=\"Thursday: Mostly sunny, with a high near 67.\"/></p><p class=\"short-desc\">Mostly Sunny</p><p class=\"temp temp-high\">High: 67 °F</p></div>, <div class=\"tombstone-container\">\n",
      "<p class=\"period-name\">Thursday<br/>Night</p>\n",
      "<p><img alt=\"Thursday Night: Mostly cloudy, with a low around 50.\" class=\"forecast-icon\" src=\"newimages/medium/nbkn.png\" title=\"Thursday Night: Mostly cloudy, with a low around 50.\"/></p><p class=\"short-desc\">Mostly Cloudy</p><p class=\"temp temp-low\">Low: 50 °F</p></div>, <div class=\"tombstone-container\">\n",
      "<p class=\"period-name\">Friday<br/><br/></p>\n",
      "<p><img alt=\"Friday: Partly sunny, with a high near 67.\" class=\"forecast-icon\" src=\"newimages/medium/bkn.png\" title=\"Friday: Partly sunny, with a high near 67.\"/></p><p class=\"short-desc\">Partly Sunny</p><p class=\"temp temp-high\">High: 67 °F</p></div>]\n"
     ]
    }
   ],
   "source": [
    "import requests\n",
    "from bs4 import BeautifulSoup\n",
    "page = requests.get(\"http://forecast.weather.gov/MapClick.php?lat=37.7772&lon=-122.4168\")\n",
    "soup = BeautifulSoup(page.content, 'html.parser')\n",
    "seven_day = soup.find(id=\"seven-day-forecast\")\n",
    "forecast_items = seven_day.find_all(class_=\"tombstone-container\")\n",
    "print(forecast_items)"
   ]
  },
  {
   "cell_type": "code",
   "execution_count": 4,
   "metadata": {},
   "outputs": [
    {
     "data": {
      "text/plain": [
       "[<p class=\"period-name\">Today<br/><br/></p>,\n",
       " <p class=\"period-name\">Tonight<br/><br/></p>,\n",
       " <p class=\"period-name\">Tuesday<br/><br/></p>,\n",
       " <p class=\"period-name\">Tuesday<br/>Night</p>,\n",
       " <p class=\"period-name\">Wednesday<br/><br/></p>,\n",
       " <p class=\"period-name\">Wednesday<br/>Night</p>,\n",
       " <p class=\"period-name\">Thursday<br/><br/></p>,\n",
       " <p class=\"period-name\">Thursday<br/>Night</p>,\n",
       " <p class=\"period-name\">Friday<br/><br/></p>]"
      ]
     },
     "execution_count": 4,
     "metadata": {},
     "output_type": "execute_result"
    }
   ],
   "source": [
    "a=seven_day.select(\".tombstone-container .period-name\")\n",
    "a"
   ]
  },
  {
   "cell_type": "code",
   "execution_count": 5,
   "metadata": {},
   "outputs": [
    {
     "data": {
      "text/plain": [
       "['Today',\n",
       " 'Tonight',\n",
       " 'Tuesday',\n",
       " 'TuesdayNight',\n",
       " 'Wednesday',\n",
       " 'WednesdayNight',\n",
       " 'Thursday',\n",
       " 'ThursdayNight',\n",
       " 'Friday']"
      ]
     },
     "execution_count": 5,
     "metadata": {},
     "output_type": "execute_result"
    }
   ],
   "source": [
    "b=[x.text for x in a]\n",
    "b"
   ]
  },
  {
   "cell_type": "code",
   "execution_count": 6,
   "metadata": {},
   "outputs": [
    {
     "name": "stdout",
     "output_type": "stream",
     "text": [
      "<div class=\"tombstone-container\">\n",
      " <p class=\"period-name\">\n",
      "  Tuesday\n",
      "  <br/>\n",
      "  <br/>\n",
      " </p>\n",
      " <p>\n",
      "  <img alt=\"Tuesday: Sunny, with a high near 64. Light west wind increasing to 11 to 16 mph in the afternoon. Winds could gust as high as 21 mph. \" class=\"forecast-icon\" src=\"newimages/medium/few.png\" title=\"Tuesday: Sunny, with a high near 64. Light west wind increasing to 11 to 16 mph in the afternoon. Winds could gust as high as 21 mph. \"/>\n",
      " </p>\n",
      " <p class=\"short-desc\">\n",
      "  Sunny\n",
      " </p>\n",
      " <p class=\"temp temp-high\">\n",
      "  High: 64 °F\n",
      " </p>\n",
      "</div>\n"
     ]
    }
   ],
   "source": [
    "tonight = forecast_items[2]\n",
    "print(tonight.prettify())"
   ]
  },
  {
   "cell_type": "code",
   "execution_count": 7,
   "metadata": {},
   "outputs": [
    {
     "name": "stdout",
     "output_type": "stream",
     "text": [
      "['Mostly Sunny', 'Mostly Clear', 'Sunny', 'Mostly Clear', 'Sunny', 'Mostly Clear', 'Mostly Sunny', 'Mostly Cloudy', 'Partly Sunny']\n",
      "\n",
      "\n",
      "['High: 58 °F', 'Low: 46 °F', 'High: 64 °F', 'Low: 49 °F', 'High: 68 °F', 'Low: 50 °F', 'High: 67 °F', 'Low: 50 °F', 'High: 67 °F']\n",
      "\n",
      "\n",
      "['Today: Mostly sunny, with a high near 58. West wind 7 to 15 mph, with gusts as high as 20 mph. ', 'Tonight: Mostly clear, with a low around 46. West wind 11 to 16 mph decreasing to 5 to 10 mph after midnight. Winds could gust as high as 21 mph. ', 'Tuesday: Sunny, with a high near 64. Light west wind increasing to 11 to 16 mph in the afternoon. Winds could gust as high as 21 mph. ', 'Tuesday Night: Mostly clear, with a low around 49. West wind 8 to 17 mph, with gusts as high as 22 mph. ', 'Wednesday: Sunny, with a high near 68. Light southwest wind becoming west 8 to 13 mph in the afternoon. ', 'Wednesday Night: Mostly clear, with a low around 50.', 'Thursday: Mostly sunny, with a high near 67.', 'Thursday Night: Mostly cloudy, with a low around 50.', 'Friday: Partly sunny, with a high near 67.']\n"
     ]
    }
   ],
   "source": [
    "period = tonight.find(class_=\"period-name\").get_text()\n",
    "short_desc = [sd.get_text() for sd in seven_day.select(\".tombstone-container .short-desc\")]\n",
    "temp = [t.get_text() for t in seven_day.select(\".tombstone-container .temp\")]\n",
    "descs=[d[\"title\"] for d in seven_day.select(\".tombstone-container img\")]\n",
    "\n",
    "print(short_desc)\n",
    "print(\"\\n\")\n",
    "print(temp)\n",
    "print(\"\\n\")\n",
    "print(descs)"
   ]
  },
  {
   "cell_type": "code",
   "execution_count": 8,
   "metadata": {},
   "outputs": [
    {
     "data": {
      "text/html": [
       "<div>\n",
       "<style scoped>\n",
       "    .dataframe tbody tr th:only-of-type {\n",
       "        vertical-align: middle;\n",
       "    }\n",
       "\n",
       "    .dataframe tbody tr th {\n",
       "        vertical-align: top;\n",
       "    }\n",
       "\n",
       "    .dataframe thead th {\n",
       "        text-align: right;\n",
       "    }\n",
       "</style>\n",
       "<table border=\"1\" class=\"dataframe\">\n",
       "  <thead>\n",
       "    <tr style=\"text-align: right;\">\n",
       "      <th></th>\n",
       "      <th>period</th>\n",
       "      <th>short_desc</th>\n",
       "      <th>temp</th>\n",
       "      <th>descs</th>\n",
       "    </tr>\n",
       "  </thead>\n",
       "  <tbody>\n",
       "    <tr>\n",
       "      <td>0</td>\n",
       "      <td>Today</td>\n",
       "      <td>Mostly Sunny</td>\n",
       "      <td>High: 58 °F</td>\n",
       "      <td>Today: Mostly sunny, with a high near 58. West...</td>\n",
       "    </tr>\n",
       "    <tr>\n",
       "      <td>1</td>\n",
       "      <td>Tonight</td>\n",
       "      <td>Mostly Clear</td>\n",
       "      <td>Low: 46 °F</td>\n",
       "      <td>Tonight: Mostly clear, with a low around 46. W...</td>\n",
       "    </tr>\n",
       "    <tr>\n",
       "      <td>2</td>\n",
       "      <td>Tuesday</td>\n",
       "      <td>Sunny</td>\n",
       "      <td>High: 64 °F</td>\n",
       "      <td>Tuesday: Sunny, with a high near 64. Light wes...</td>\n",
       "    </tr>\n",
       "    <tr>\n",
       "      <td>3</td>\n",
       "      <td>TuesdayNight</td>\n",
       "      <td>Mostly Clear</td>\n",
       "      <td>Low: 49 °F</td>\n",
       "      <td>Tuesday Night: Mostly clear, with a low around...</td>\n",
       "    </tr>\n",
       "    <tr>\n",
       "      <td>4</td>\n",
       "      <td>Wednesday</td>\n",
       "      <td>Sunny</td>\n",
       "      <td>High: 68 °F</td>\n",
       "      <td>Wednesday: Sunny, with a high near 68. Light s...</td>\n",
       "    </tr>\n",
       "    <tr>\n",
       "      <td>5</td>\n",
       "      <td>WednesdayNight</td>\n",
       "      <td>Mostly Clear</td>\n",
       "      <td>Low: 50 °F</td>\n",
       "      <td>Wednesday Night: Mostly clear, with a low arou...</td>\n",
       "    </tr>\n",
       "    <tr>\n",
       "      <td>6</td>\n",
       "      <td>Thursday</td>\n",
       "      <td>Mostly Sunny</td>\n",
       "      <td>High: 67 °F</td>\n",
       "      <td>Thursday: Mostly sunny, with a high near 67.</td>\n",
       "    </tr>\n",
       "    <tr>\n",
       "      <td>7</td>\n",
       "      <td>ThursdayNight</td>\n",
       "      <td>Mostly Cloudy</td>\n",
       "      <td>Low: 50 °F</td>\n",
       "      <td>Thursday Night: Mostly cloudy, with a low arou...</td>\n",
       "    </tr>\n",
       "    <tr>\n",
       "      <td>8</td>\n",
       "      <td>Friday</td>\n",
       "      <td>Partly Sunny</td>\n",
       "      <td>High: 67 °F</td>\n",
       "      <td>Friday: Partly sunny, with a high near 67.</td>\n",
       "    </tr>\n",
       "  </tbody>\n",
       "</table>\n",
       "</div>"
      ],
      "text/plain": [
       "           period     short_desc         temp  \\\n",
       "0           Today   Mostly Sunny  High: 58 °F   \n",
       "1         Tonight   Mostly Clear   Low: 46 °F   \n",
       "2         Tuesday          Sunny  High: 64 °F   \n",
       "3    TuesdayNight   Mostly Clear   Low: 49 °F   \n",
       "4       Wednesday          Sunny  High: 68 °F   \n",
       "5  WednesdayNight   Mostly Clear   Low: 50 °F   \n",
       "6        Thursday   Mostly Sunny  High: 67 °F   \n",
       "7   ThursdayNight  Mostly Cloudy   Low: 50 °F   \n",
       "8          Friday   Partly Sunny  High: 67 °F   \n",
       "\n",
       "                                               descs  \n",
       "0  Today: Mostly sunny, with a high near 58. West...  \n",
       "1  Tonight: Mostly clear, with a low around 46. W...  \n",
       "2  Tuesday: Sunny, with a high near 64. Light wes...  \n",
       "3  Tuesday Night: Mostly clear, with a low around...  \n",
       "4  Wednesday: Sunny, with a high near 68. Light s...  \n",
       "5  Wednesday Night: Mostly clear, with a low arou...  \n",
       "6       Thursday: Mostly sunny, with a high near 67.  \n",
       "7  Thursday Night: Mostly cloudy, with a low arou...  \n",
       "8         Friday: Partly sunny, with a high near 67.  "
      ]
     },
     "execution_count": 8,
     "metadata": {},
     "output_type": "execute_result"
    }
   ],
   "source": [
    "import pandas as pd\n",
    "weather=pd.DataFrame({\"period\": b,\n",
    "                     \"short_desc\": short_desc,\n",
    "                     \"temp\": temp,\n",
    "                     \"descs\": descs})\n",
    "weather"
   ]
  },
  {
   "cell_type": "code",
   "execution_count": null,
   "metadata": {},
   "outputs": [],
   "source": []
  }
 ],
 "metadata": {
  "kernelspec": {
   "display_name": "Python 3",
   "language": "python",
   "name": "python3"
  },
  "language_info": {
   "codemirror_mode": {
    "name": "ipython",
    "version": 3
   },
   "file_extension": ".py",
   "mimetype": "text/x-python",
   "name": "python",
   "nbconvert_exporter": "python",
   "pygments_lexer": "ipython3",
   "version": "3.7.4"
  }
 },
 "nbformat": 4,
 "nbformat_minor": 2
}
